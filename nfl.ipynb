{
 "cells": [
  {
   "cell_type": "code",
   "execution_count": 1,
   "id": "5d85b81e-d7dc-42e4-8ee2-8727a2e6f673",
   "metadata": {
    "tags": []
   },
   "outputs": [],
   "source": [
    "import pandas as pd\n",
    "import numpy as np\n",
    "import seaborn as sns\n",
    "import matplotlib.pyplot as plt"
   ]
  },
  {
   "cell_type": "code",
   "execution_count": 2,
   "id": "a3bff3e9-41bf-42df-8024-f6415fc4ac87",
   "metadata": {
    "tags": []
   },
   "outputs": [],
   "source": [
    "from sklearn.model_selection import train_test_split\n",
    "from sklearn.linear_model import LinearRegression\n",
    "import statsmodels.api as sm"
   ]
  },
  {
   "cell_type": "code",
   "execution_count": 3,
   "id": "6376fb23-cf9e-4190-bda3-e64198bc3f8d",
   "metadata": {
    "tags": []
   },
   "outputs": [
    {
     "name": "stdout",
     "output_type": "stream",
     "text": [
      "(19239, 27)\n"
     ]
    },
    {
     "data": {
      "text/html": [
       "<div>\n",
       "<style scoped>\n",
       "    .dataframe tbody tr th:only-of-type {\n",
       "        vertical-align: middle;\n",
       "    }\n",
       "\n",
       "    .dataframe tbody tr th {\n",
       "        vertical-align: top;\n",
       "    }\n",
       "\n",
       "    .dataframe thead th {\n",
       "        text-align: right;\n",
       "    }\n",
       "</style>\n",
       "<table border=\"1\" class=\"dataframe\">\n",
       "  <thead>\n",
       "    <tr style=\"text-align: right;\">\n",
       "      <th></th>\n",
       "      <th>gameId</th>\n",
       "      <th>playId</th>\n",
       "      <th>playDescription</th>\n",
       "      <th>quarter</th>\n",
       "      <th>down</th>\n",
       "      <th>yardsToGo</th>\n",
       "      <th>possessionTeam</th>\n",
       "      <th>playType</th>\n",
       "      <th>yardlineSide</th>\n",
       "      <th>yardlineNumber</th>\n",
       "      <th>...</th>\n",
       "      <th>preSnapHomeScore</th>\n",
       "      <th>gameClock</th>\n",
       "      <th>absoluteYardlineNumber</th>\n",
       "      <th>penaltyCodes</th>\n",
       "      <th>penaltyJerseyNumbers</th>\n",
       "      <th>passResult</th>\n",
       "      <th>offensePlayResult</th>\n",
       "      <th>playResult</th>\n",
       "      <th>epa</th>\n",
       "      <th>isDefensivePI</th>\n",
       "    </tr>\n",
       "  </thead>\n",
       "  <tbody>\n",
       "    <tr>\n",
       "      <th>0</th>\n",
       "      <td>2018090600</td>\n",
       "      <td>75</td>\n",
       "      <td>(15:00) M.Ryan pass short right to J.Jones pus...</td>\n",
       "      <td>1</td>\n",
       "      <td>1</td>\n",
       "      <td>15</td>\n",
       "      <td>ATL</td>\n",
       "      <td>play_type_pass</td>\n",
       "      <td>ATL</td>\n",
       "      <td>20</td>\n",
       "      <td>...</td>\n",
       "      <td>0.0</td>\n",
       "      <td>15:00:00</td>\n",
       "      <td>90.0</td>\n",
       "      <td>NaN</td>\n",
       "      <td>NaN</td>\n",
       "      <td>C</td>\n",
       "      <td>10</td>\n",
       "      <td>10</td>\n",
       "      <td>0.261827</td>\n",
       "      <td>False</td>\n",
       "    </tr>\n",
       "    <tr>\n",
       "      <th>1</th>\n",
       "      <td>2018090600</td>\n",
       "      <td>146</td>\n",
       "      <td>(13:10) M.Ryan pass incomplete short right to ...</td>\n",
       "      <td>1</td>\n",
       "      <td>1</td>\n",
       "      <td>10</td>\n",
       "      <td>ATL</td>\n",
       "      <td>play_type_pass</td>\n",
       "      <td>PHI</td>\n",
       "      <td>39</td>\n",
       "      <td>...</td>\n",
       "      <td>0.0</td>\n",
       "      <td>13:10:00</td>\n",
       "      <td>49.0</td>\n",
       "      <td>NaN</td>\n",
       "      <td>NaN</td>\n",
       "      <td>I</td>\n",
       "      <td>0</td>\n",
       "      <td>0</td>\n",
       "      <td>-0.372360</td>\n",
       "      <td>False</td>\n",
       "    </tr>\n",
       "    <tr>\n",
       "      <th>2</th>\n",
       "      <td>2018090600</td>\n",
       "      <td>168</td>\n",
       "      <td>(13:05) (Shotgun) M.Ryan pass incomplete short...</td>\n",
       "      <td>1</td>\n",
       "      <td>2</td>\n",
       "      <td>10</td>\n",
       "      <td>ATL</td>\n",
       "      <td>play_type_pass</td>\n",
       "      <td>PHI</td>\n",
       "      <td>39</td>\n",
       "      <td>...</td>\n",
       "      <td>0.0</td>\n",
       "      <td>13:05:00</td>\n",
       "      <td>49.0</td>\n",
       "      <td>NaN</td>\n",
       "      <td>NaN</td>\n",
       "      <td>I</td>\n",
       "      <td>0</td>\n",
       "      <td>0</td>\n",
       "      <td>-0.702779</td>\n",
       "      <td>False</td>\n",
       "    </tr>\n",
       "    <tr>\n",
       "      <th>3</th>\n",
       "      <td>2018090600</td>\n",
       "      <td>190</td>\n",
       "      <td>(13:01) (Shotgun) M.Ryan pass deep left to J.J...</td>\n",
       "      <td>1</td>\n",
       "      <td>3</td>\n",
       "      <td>10</td>\n",
       "      <td>ATL</td>\n",
       "      <td>play_type_pass</td>\n",
       "      <td>PHI</td>\n",
       "      <td>39</td>\n",
       "      <td>...</td>\n",
       "      <td>0.0</td>\n",
       "      <td>13:01:00</td>\n",
       "      <td>49.0</td>\n",
       "      <td>NaN</td>\n",
       "      <td>NaN</td>\n",
       "      <td>C</td>\n",
       "      <td>33</td>\n",
       "      <td>33</td>\n",
       "      <td>3.047530</td>\n",
       "      <td>False</td>\n",
       "    </tr>\n",
       "    <tr>\n",
       "      <th>4</th>\n",
       "      <td>2018090600</td>\n",
       "      <td>256</td>\n",
       "      <td>(10:59) (Shotgun) M.Ryan pass incomplete short...</td>\n",
       "      <td>1</td>\n",
       "      <td>3</td>\n",
       "      <td>1</td>\n",
       "      <td>ATL</td>\n",
       "      <td>play_type_pass</td>\n",
       "      <td>PHI</td>\n",
       "      <td>1</td>\n",
       "      <td>...</td>\n",
       "      <td>0.0</td>\n",
       "      <td>10:59:00</td>\n",
       "      <td>11.0</td>\n",
       "      <td>NaN</td>\n",
       "      <td>NaN</td>\n",
       "      <td>I</td>\n",
       "      <td>0</td>\n",
       "      <td>0</td>\n",
       "      <td>-0.842272</td>\n",
       "      <td>False</td>\n",
       "    </tr>\n",
       "  </tbody>\n",
       "</table>\n",
       "<p>5 rows × 27 columns</p>\n",
       "</div>"
      ],
      "text/plain": [
       "       gameId  playId                                    playDescription  \\\n",
       "0  2018090600      75  (15:00) M.Ryan pass short right to J.Jones pus...   \n",
       "1  2018090600     146  (13:10) M.Ryan pass incomplete short right to ...   \n",
       "2  2018090600     168  (13:05) (Shotgun) M.Ryan pass incomplete short...   \n",
       "3  2018090600     190  (13:01) (Shotgun) M.Ryan pass deep left to J.J...   \n",
       "4  2018090600     256  (10:59) (Shotgun) M.Ryan pass incomplete short...   \n",
       "\n",
       "   quarter  down  yardsToGo possessionTeam        playType yardlineSide  \\\n",
       "0        1     1         15            ATL  play_type_pass          ATL   \n",
       "1        1     1         10            ATL  play_type_pass          PHI   \n",
       "2        1     2         10            ATL  play_type_pass          PHI   \n",
       "3        1     3         10            ATL  play_type_pass          PHI   \n",
       "4        1     3          1            ATL  play_type_pass          PHI   \n",
       "\n",
       "   yardlineNumber  ... preSnapHomeScore gameClock  absoluteYardlineNumber  \\\n",
       "0              20  ...              0.0  15:00:00                    90.0   \n",
       "1              39  ...              0.0  13:10:00                    49.0   \n",
       "2              39  ...              0.0  13:05:00                    49.0   \n",
       "3              39  ...              0.0  13:01:00                    49.0   \n",
       "4               1  ...              0.0  10:59:00                    11.0   \n",
       "\n",
       "   penaltyCodes penaltyJerseyNumbers passResult  offensePlayResult  \\\n",
       "0           NaN                  NaN          C                 10   \n",
       "1           NaN                  NaN          I                  0   \n",
       "2           NaN                  NaN          I                  0   \n",
       "3           NaN                  NaN          C                 33   \n",
       "4           NaN                  NaN          I                  0   \n",
       "\n",
       "   playResult       epa  isDefensivePI  \n",
       "0          10  0.261827          False  \n",
       "1           0 -0.372360          False  \n",
       "2           0 -0.702779          False  \n",
       "3          33  3.047530          False  \n",
       "4           0 -0.842272          False  \n",
       "\n",
       "[5 rows x 27 columns]"
      ]
     },
     "execution_count": 3,
     "metadata": {},
     "output_type": "execute_result"
    }
   ],
   "source": [
    "plays = pd.read_csv('~/Desktop/data110/plays.csv')\n",
    "\n",
    "print(plays.shape)\n",
    "plays.head()"
   ]
  },
  {
   "cell_type": "code",
   "execution_count": 4,
   "id": "6ff6e2d5-f6ba-4b08-a0b8-79ea8ada77e2",
   "metadata": {
    "tags": []
   },
   "outputs": [],
   "source": [
    "# encode down and quarter categorical variables into true-false columns\n",
    "plays = pd.get_dummies(plays, columns=['down', 'quarter'], drop_first=True)"
   ]
  },
  {
   "cell_type": "code",
   "execution_count": 5,
   "id": "e54f2bde-b0bd-43c1-9166-3b521b4386a4",
   "metadata": {
    "tags": []
   },
   "outputs": [
    {
     "name": "stdout",
     "output_type": "stream",
     "text": [
      "31 Total Features: \n",
      "\n",
      "<class 'pandas.core.frame.DataFrame'>\n",
      "RangeIndex: 19239 entries, 0 to 19238\n",
      "Data columns (total 31 columns):\n",
      " #   Column                  Non-Null Count  Dtype  \n",
      "---  ------                  --------------  -----  \n",
      " 0   gameId                  19239 non-null  int64  \n",
      " 1   playId                  19239 non-null  int64  \n",
      " 2   playDescription         19239 non-null  object \n",
      " 3   yardsToGo               19239 non-null  int64  \n",
      " 4   possessionTeam          19239 non-null  object \n",
      " 5   playType                19239 non-null  object \n",
      " 6   yardlineSide            18985 non-null  object \n",
      " 7   yardlineNumber          19239 non-null  int64  \n",
      " 8   offenseFormation        19098 non-null  object \n",
      " 9   personnelO              19210 non-null  object \n",
      " 10  defendersInTheBox       19177 non-null  float64\n",
      " 11  numberOfPassRushers     18606 non-null  float64\n",
      " 12  personnelD              19210 non-null  object \n",
      " 13  typeDropback            18600 non-null  object \n",
      " 14  preSnapVisitorScore     18600 non-null  float64\n",
      " 15  preSnapHomeScore        18600 non-null  float64\n",
      " 16  gameClock               18600 non-null  object \n",
      " 17  absoluteYardlineNumber  18600 non-null  float64\n",
      " 18  penaltyCodes            1206 non-null   object \n",
      " 19  penaltyJerseyNumbers    1206 non-null   object \n",
      " 20  passResult              19237 non-null  object \n",
      " 21  offensePlayResult       19239 non-null  int64  \n",
      " 22  playResult              19239 non-null  int64  \n",
      " 23  isDefensivePI           19239 non-null  bool   \n",
      " 24  down_2                  19239 non-null  bool   \n",
      " 25  down_3                  19239 non-null  bool   \n",
      " 26  down_4                  19239 non-null  bool   \n",
      " 27  quarter_2               19239 non-null  bool   \n",
      " 28  quarter_3               19239 non-null  bool   \n",
      " 29  quarter_4               19239 non-null  bool   \n",
      " 30  quarter_5               19239 non-null  bool   \n",
      "dtypes: bool(8), float64(5), int64(6), object(12)\n",
      "memory usage: 3.5+ MB\n"
     ]
    }
   ],
   "source": [
    "# define X (features), y (target variable)\n",
    "X = plays.drop(columns=['epa'])   \n",
    "y = plays['epa']                  \n",
    "\n",
    "num_features = X.shape[1]\n",
    "print(f\"{num_features} Total Features: \\n\")\n",
    "\n",
    "# non-null count and data type for each feature\n",
    "X.info()"
   ]
  },
  {
   "cell_type": "code",
   "execution_count": 6,
   "id": "aa6b8294-b1ec-42db-a22f-f83db47c0030",
   "metadata": {
    "tags": []
   },
   "outputs": [
    {
     "data": {
      "text/plain": [
       "((18033, 28), (18033,))"
      ]
     },
     "execution_count": 6,
     "metadata": {},
     "output_type": "execute_result"
    }
   ],
   "source": [
    "# we are not interested in epa for plays where penalties occur (we cannot control penalties)\n",
    "# remove plays where penalties occur, remove features related to penalties\n",
    "no_penalties = (plays['penaltyCodes'].isnull())\n",
    "\n",
    "X = X[no_penalties].drop(columns=['penaltyCodes', \n",
    "                                  'penaltyJerseyNumbers', \n",
    "                                  'isDefensivePI'])\n",
    "y = y[no_penalties]\n",
    "\n",
    "X.shape, y.shape"
   ]
  },
  {
   "cell_type": "code",
   "execution_count": 7,
   "id": "43c49c59-aec5-4ede-bffb-67f9e5d2084a",
   "metadata": {
    "tags": []
   },
   "outputs": [
    {
     "name": "stdout",
     "output_type": "stream",
     "text": [
      "21 Total Features: \n",
      "\n",
      "<class 'pandas.core.frame.DataFrame'>\n",
      "Index: 18033 entries, 0 to 18605\n",
      "Data columns (total 21 columns):\n",
      " #   Column                  Non-Null Count  Dtype  \n",
      "---  ------                  --------------  -----  \n",
      " 0   playDescription         18033 non-null  object \n",
      " 1   yardsToGo               18033 non-null  int64  \n",
      " 2   offenseFormation        17940 non-null  object \n",
      " 3   personnelO              18033 non-null  object \n",
      " 4   defendersInTheBox       18017 non-null  float64\n",
      " 5   numberOfPassRushers     18033 non-null  float64\n",
      " 6   personnelD              18033 non-null  object \n",
      " 7   typeDropback            18027 non-null  object \n",
      " 8   preSnapVisitorScore     18027 non-null  float64\n",
      " 9   preSnapHomeScore        18027 non-null  float64\n",
      " 10  gameClock               18027 non-null  object \n",
      " 11  absoluteYardlineNumber  18027 non-null  float64\n",
      " 12  passResult              18033 non-null  object \n",
      " 13  offensePlayResult       18033 non-null  int64  \n",
      " 14  down_2                  18033 non-null  bool   \n",
      " 15  down_3                  18033 non-null  bool   \n",
      " 16  down_4                  18033 non-null  bool   \n",
      " 17  quarter_2               18033 non-null  bool   \n",
      " 18  quarter_3               18033 non-null  bool   \n",
      " 19  quarter_4               18033 non-null  bool   \n",
      " 20  quarter_5               18033 non-null  bool   \n",
      "dtypes: bool(7), float64(5), int64(2), object(7)\n",
      "memory usage: 2.2+ MB\n"
     ]
    }
   ],
   "source": [
    "X = X.drop(columns=['gameId',         # these are identifying features that play no role in predicting epa\n",
    "                    'playId', \n",
    "                    'possessionTeam', # team is an irrelevant factor\n",
    "                    'playType',       # we are looking solely at passing plays\n",
    "                    'yardlineSide',   # we will use the absoluteYardlineNumber\n",
    "                    'yardlineNumber', \n",
    "                    'playResult'])    # net yds gained by offense, including penalty yardage (which we already excluded, so this variable is the same as offensePlayResult)\n",
    "\n",
    "num_features = X.shape[1]\n",
    "print(f\"{num_features} Total Features: \\n\")\n",
    "\n",
    "X.info()"
   ]
  },
  {
   "cell_type": "code",
   "execution_count": 8,
   "id": "a49a587c-e757-48a9-9fb9-331a68a4efc8",
   "metadata": {},
   "outputs": [],
   "source": [
    "X['passResult'] = X.passResult.replace({'I': 0, 'C': 1, 'S': 2, 'IN': 3})"
   ]
  },
  {
   "cell_type": "code",
   "execution_count": 9,
   "id": "b6198419-a7d5-4496-82dd-f13d9f9f9f0e",
   "metadata": {},
   "outputs": [],
   "source": [
    "X['down_2'] = X.down_2.astype(int)\n",
    "X['down_3'] = X.down_3.astype(int)\n",
    "X['down_4'] = X.down_4.astype(int)\n",
    "\n",
    "X['quarter_2'] = X.quarter_2.astype(int)\n",
    "X['quarter_3'] = X.quarter_3.astype(int)\n",
    "X['quarter_4'] = X.quarter_4.astype(int)\n",
    "X['quarter_5'] = X.quarter_5.astype(int)"
   ]
  },
  {
   "cell_type": "code",
   "execution_count": 20,
   "id": "6dc5fb3a-c669-4506-975d-96127f2ae338",
   "metadata": {
    "tags": []
   },
   "outputs": [
    {
     "ename": "IndexError",
     "evalue": "list index out of range",
     "output_type": "error",
     "traceback": [
      "\u001b[1;31m---------------------------------------------------------------------------\u001b[0m",
      "\u001b[1;31mIndexError\u001b[0m                                Traceback (most recent call last)",
      "Cell \u001b[1;32mIn[20], line 10\u001b[0m\n\u001b[0;32m      8\u001b[0m \u001b[38;5;28;01mfor\u001b[39;00m j \u001b[38;5;129;01min\u001b[39;00m \u001b[38;5;28mrange\u001b[39m(\u001b[38;5;28mlen\u001b[39m(time)\u001b[38;5;241m+\u001b[39m\u001b[38;5;241m1\u001b[39m):\n\u001b[0;32m      9\u001b[0m     \u001b[38;5;28;01mif\u001b[39;00m j \u001b[38;5;241m==\u001b[39m \u001b[38;5;241m0\u001b[39m:\n\u001b[1;32m---> 10\u001b[0m         count \u001b[38;5;241m+\u001b[39m\u001b[38;5;241m=\u001b[39m \u001b[38;5;28mint\u001b[39m(time[i][j]) \u001b[38;5;241m*\u001b[39m \u001b[38;5;241m60\u001b[39m\n\u001b[0;32m     11\u001b[0m     \u001b[38;5;28;01melif\u001b[39;00m j \u001b[38;5;241m==\u001b[39m \u001b[38;5;241m1\u001b[39m:\n\u001b[0;32m     12\u001b[0m         count \u001b[38;5;241m+\u001b[39m\u001b[38;5;241m=\u001b[39m \u001b[38;5;28mint\u001b[39m(time[i][j])\n",
      "\u001b[1;31mIndexError\u001b[0m: list index out of range"
     ]
    }
   ],
   "source": [
    "mmss = X.gameClock.str.split(\":\")\n",
    "\n",
    "seconds = []\n",
    "\n",
    "for time in mmss:\n",
    "    count = 0\n",
    "    for i in range(len(mmss)):\n",
    "        for j in range(len(time)):\n",
    "            if j == 0:\n",
    "                count += int(time[i][j]) * 60\n",
    "            elif j == 1:\n",
    "                count += int(time[i][j])\n",
    "            seconds.append(count)\n",
    "\n",
    "print(seconds)"
   ]
  },
  {
   "cell_type": "code",
   "execution_count": null,
   "id": "0397e852-1376-48d7-8c76-2bb9d7aff87c",
   "metadata": {},
   "outputs": [],
   "source": []
  }
 ],
 "metadata": {
  "kernelspec": {
   "display_name": "Python 3 (ipykernel)",
   "language": "python",
   "name": "python3"
  },
  "language_info": {
   "codemirror_mode": {
    "name": "ipython",
    "version": 3
   },
   "file_extension": ".py",
   "mimetype": "text/x-python",
   "name": "python",
   "nbconvert_exporter": "python",
   "pygments_lexer": "ipython3",
   "version": "3.11.5"
  }
 },
 "nbformat": 4,
 "nbformat_minor": 5
}
